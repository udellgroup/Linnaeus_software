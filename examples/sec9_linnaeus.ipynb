{
 "cells": [
  {
   "cell_type": "code",
   "execution_count": 3,
   "metadata": {},
   "outputs": [],
   "source": [
    "# import linnaeus and Algorithm class\n",
    "import linnaeus as lin\n",
    "from linnaeus import Algorithm "
   ]
  },
  {
   "cell_type": "markdown",
   "metadata": {},
   "source": [
    "### Example 1 (oracle equivalence)\n",
    "\n",
    "### Algorithm 1\n",
    "\n",
    "$\\text{Repeat}$\n",
    "\n",
    "$x_3 \\gets 2x_1 - x_2$\n",
    "\n",
    "$x_2 \\gets x_1$\n",
    "\n",
    "$x_1 \\gets x_3 - \\frac{1}{10} \\nabla f(x_3)$"
   ]
  },
  {
   "cell_type": "code",
   "execution_count": 2,
   "metadata": {},
   "outputs": [
    {
     "name": "stdout",
     "output_type": "stream",
     "text": [
      "--------------------------------------------------------------\n",
      "Parse algo1.\n",
      "State-space realization:\n"
     ]
    },
    {
     "data": {
      "text/latex": [
       "\\begin{align} \\left[\\begin{matrix}x^{+}_{1}\\\\x^{+}_{2}\\\\x^{+}_{3}\\end{matrix}\\right] & = \\left[\\begin{matrix}2.0 & -1 & 0\\\\1 & 0 & 0\\\\2 & -1 & 0\\end{matrix}\\right] \\left[\\begin{matrix}x_{1}\\\\x_{2}\\\\x_{3}\\end{matrix}\\right]+\\left[\\begin{matrix}-0.1\\\\0\\\\0\\end{matrix}\\right] \\left[\\begin{matrix}\\operatorname{gradf}{\\left(y_{0} \\right)}\\end{matrix}\\right] \\\\ \\left[\\begin{matrix}y_{0}\\end{matrix}\\right] & = \\left[\\begin{matrix}2 & -1 & 0\\end{matrix}\\right] \\left[\\begin{matrix}x_{1}\\\\x_{2}\\\\x_{3}\\end{matrix}\\right]+\\left[\\begin{matrix}0\\end{matrix}\\right] \\left[\\begin{matrix}\\operatorname{gradf}{\\left(y_{0} \\right)}\\end{matrix}\\right] \\end{align}"
      ],
      "text/plain": [
       "<IPython.core.display.Latex object>"
      ]
     },
     "metadata": {},
     "output_type": "display_data"
    },
    {
     "name": "stdout",
     "output_type": "stream",
     "text": [
      "--------------------------------------------------------------\n"
     ]
    }
   ],
   "source": [
    "# define algorithm \"algo1\"\n",
    "algo1 = Algorithm(\"algo1\") \n",
    "\n",
    "# add oracle gradient of f to algo1\n",
    "gradf = algo1.add_oracle(\"gradf\") \n",
    "\n",
    "# add variables x1, x2, and x3 to algo1\n",
    "x1, x2, x3 = algo1.add_var(\"x1\", \"x2\", \"x3\") \n",
    "\n",
    "# add update equations\n",
    "# x3 <- 2x1 - x2 \n",
    "algo1.add_update(x3, 2*x1 - x2)  \n",
    "# x2 <- x1\n",
    "algo1.add_update(x2, x1)  \n",
    "# x1 <- x3 - 1/10*gradf(x3)\n",
    "algo1.add_update(x1, x3 - 1/10*gradf(x3))  \n",
    "\n",
    "# parse algo1, translate it into canonical form\n",
    "algo1.parse()"
   ]
  },
  {
   "cell_type": "markdown",
   "metadata": {},
   "source": [
    "### Algorithm 2\n",
    "\n",
    "$\\text{Repeat}$\n",
    "\n",
    "$\\xi_3 \\gets \\xi_1$\n",
    "\n",
    "$\\xi_1 \\gets  \\xi_1 - \\xi_2 - \\frac{1}{5} \\nabla f(\\xi_3)$\n",
    "\n",
    "$\\xi_2 \\gets \\xi_2 + \\frac{1}{10} \\nabla f(\\xi_3)$"
   ]
  },
  {
   "cell_type": "code",
   "execution_count": 4,
   "metadata": {},
   "outputs": [
    {
     "name": "stdout",
     "output_type": "stream",
     "text": [
      "--------------------------------------------------------------\n",
      "Parse algo2.\n",
      "State-space realization:\n"
     ]
    },
    {
     "data": {
      "text/latex": [
       "\\begin{align} \\left[\\begin{matrix}\\xi^{+}_{1}\\\\\\xi^{+}_{2}\\\\\\xi^{+}_{3}\\end{matrix}\\right] & = \\left[\\begin{matrix}1 & -1 & 0\\\\0 & 1 & 0\\\\1 & 0 & 0\\end{matrix}\\right] \\left[\\begin{matrix}\\xi_{1}\\\\\\xi_{2}\\\\\\xi_{3}\\end{matrix}\\right]+\\left[\\begin{matrix}-0.2\\\\0.1\\\\0\\end{matrix}\\right] \\left[\\begin{matrix}\\operatorname{gradf}{\\left(y_{0} \\right)}\\end{matrix}\\right] \\\\ \\left[\\begin{matrix}y_{0}\\end{matrix}\\right] & = \\left[\\begin{matrix}1 & 0 & 0\\end{matrix}\\right] \\left[\\begin{matrix}\\xi_{1}\\\\\\xi_{2}\\\\\\xi_{3}\\end{matrix}\\right]+\\left[\\begin{matrix}0\\end{matrix}\\right] \\left[\\begin{matrix}\\operatorname{gradf}{\\left(y_{0} \\right)}\\end{matrix}\\right] \\end{align}"
      ],
      "text/plain": [
       "<IPython.core.display.Latex object>"
      ]
     },
     "metadata": {},
     "output_type": "display_data"
    },
    {
     "name": "stdout",
     "output_type": "stream",
     "text": [
      "--------------------------------------------------------------\n"
     ]
    }
   ],
   "source": [
    "algo2 = Algorithm(\"algo2\") \n",
    "xi1, xi2, xi3 = algo2.add_var(\"xi1\", \"xi2\", \"xi3\")\n",
    "gradf = algo2.add_oracle(\"gradf\")\n",
    "\n",
    "# xi3 <- xi1\n",
    "algo2.add_update(xi3, xi1)\n",
    "# xi1 <- xi1 - xi2 - 1/5*gradf(xi1)\n",
    "algo2.add_update(xi1, xi1 - xi2 - 1/5*gradf(xi3))  \n",
    "# xi2 <- xi2 + 1/10*gradf(xi3)\n",
    "algo2.add_update(xi2, xi2 + 1/10*gradf(xi3))  \n",
    "\n",
    "algo2.parse()"
   ]
  },
  {
   "cell_type": "code",
   "execution_count": 5,
   "metadata": {},
   "outputs": [
    {
     "name": "stdout",
     "output_type": "stream",
     "text": [
      "--------------------------------------------------------------\n",
      "algo1 is equivalent to algo2.\n",
      "--------------------------------------------------------------\n"
     ]
    },
    {
     "data": {
      "text/plain": [
       "True"
      ]
     },
     "execution_count": 5,
     "metadata": {},
     "output_type": "execute_result"
    }
   ],
   "source": [
    "# check oracle equivalence\n",
    "lin.is_equivalent(algo1, algo2, words = True)"
   ]
  },
  {
   "cell_type": "markdown",
   "metadata": {},
   "source": [
    "### Example 2 (shift equivalence)\n",
    "\n",
    "### Algorithm 3\n",
    "\n",
    "$\\text{Repeat}$\n",
    "\n",
    "$x_1 \\gets \\text{prox}_{f}(x_3)$\n",
    "\n",
    "$x_2 \\gets \\text{prox}_{g}(2x_1 - x_3)$\n",
    "\n",
    "$x_3 \\gets x_3 + x_2 - x_1$"
   ]
  },
  {
   "cell_type": "code",
   "execution_count": 6,
   "metadata": {},
   "outputs": [
    {
     "name": "stdout",
     "output_type": "stream",
     "text": [
      "--------------------------------------------------------------\n",
      "Parse algo3.\n",
      "State-space realization:\n"
     ]
    },
    {
     "data": {
      "text/latex": [
       "\\begin{align} \\left[\\begin{matrix}x^{+}_{1}\\\\x^{+}_{2}\\\\x^{+}_{3}\\end{matrix}\\right] & = \\left[\\begin{matrix}0 & 0 & 0\\\\0 & 0 & 0\\\\0 & 0 & 1\\end{matrix}\\right] \\left[\\begin{matrix}x_{1}\\\\x_{2}\\\\x_{3}\\end{matrix}\\right]+\\left[\\begin{matrix}1 & 0\\\\0 & 1\\\\-1 & 1\\end{matrix}\\right] \\left[\\begin{matrix}\\operatorname{proxf}{\\left(y_{0} \\right)}\\\\\\operatorname{proxg}{\\left(y_{1} \\right)}\\end{matrix}\\right] \\\\ \\left[\\begin{matrix}y_{0}\\\\y_{1}\\end{matrix}\\right] & = \\left[\\begin{matrix}0 & 0 & 1\\\\0 & 0 & -1\\end{matrix}\\right] \\left[\\begin{matrix}x_{1}\\\\x_{2}\\\\x_{3}\\end{matrix}\\right]+\\left[\\begin{matrix}0 & 0\\\\2 & 0\\end{matrix}\\right] \\left[\\begin{matrix}\\operatorname{proxf}{\\left(y_{0} \\right)}\\\\\\operatorname{proxg}{\\left(y_{1} \\right)}\\end{matrix}\\right] \\end{align}"
      ],
      "text/plain": [
       "<IPython.core.display.Latex object>"
      ]
     },
     "metadata": {},
     "output_type": "display_data"
    },
    {
     "name": "stdout",
     "output_type": "stream",
     "text": [
      "--------------------------------------------------------------\n"
     ]
    }
   ],
   "source": [
    "algo3 = Algorithm(\"algo3\")\n",
    "x1, x2, x3 = algo3.add_var(\"x1\", \"x2\", \"x3\")\n",
    "proxf, proxg = algo3.add_oracle(\"proxf\", \"proxg\")\n",
    "\n",
    "# x1 <- proxf(x3)\n",
    "algo3.add_update(x1, proxf(x3))  \n",
    "# x2 <- proxg(2x1 - x3)\n",
    "algo3.add_update(x2, proxg(2*x1 - x3))  \n",
    "# x3 <- x3 + x2 - x1\n",
    "algo3.add_update(x3, x3 + x2 - x1)  \n",
    "\n",
    "algo3.parse()"
   ]
  },
  {
   "cell_type": "markdown",
   "metadata": {},
   "source": [
    "### Algorithm 4\n",
    "\n",
    "$\\text{Repeat}$\n",
    "\n",
    "$\\xi_1 \\gets \\text{prox}_{g}(- \\xi_1 + 2\\xi_2) + \\xi_1 - \\xi_2$\n",
    "\n",
    "$\\xi_2 \\gets \\text{prox}_{f}(\\xi_1)$"
   ]
  },
  {
   "cell_type": "code",
   "execution_count": 7,
   "metadata": {},
   "outputs": [
    {
     "name": "stdout",
     "output_type": "stream",
     "text": [
      "--------------------------------------------------------------\n",
      "Parse algo4.\n",
      "State-space realization:\n"
     ]
    },
    {
     "data": {
      "text/latex": [
       "\\begin{align} \\left[\\begin{matrix}\\xi^{+}_{1}\\\\\\xi^{+}_{2}\\end{matrix}\\right] & = \\left[\\begin{matrix}1 & -1\\\\0 & 0\\end{matrix}\\right] \\left[\\begin{matrix}\\xi_{1}\\\\\\xi_{2}\\end{matrix}\\right]+\\left[\\begin{matrix}1 & 0\\\\0 & 1\\end{matrix}\\right] \\left[\\begin{matrix}\\operatorname{proxg}{\\left(y_{0} \\right)}\\\\\\operatorname{proxf}{\\left(y_{1} \\right)}\\end{matrix}\\right] \\\\ \\left[\\begin{matrix}y_{0}\\\\y_{1}\\end{matrix}\\right] & = \\left[\\begin{matrix}-1 & 2\\\\1 & -1\\end{matrix}\\right] \\left[\\begin{matrix}\\xi_{1}\\\\\\xi_{2}\\end{matrix}\\right]+\\left[\\begin{matrix}0 & 0\\\\1 & 0\\end{matrix}\\right] \\left[\\begin{matrix}\\operatorname{proxg}{\\left(y_{0} \\right)}\\\\\\operatorname{proxf}{\\left(y_{1} \\right)}\\end{matrix}\\right] \\end{align}"
      ],
      "text/plain": [
       "<IPython.core.display.Latex object>"
      ]
     },
     "metadata": {},
     "output_type": "display_data"
    },
    {
     "name": "stdout",
     "output_type": "stream",
     "text": [
      "--------------------------------------------------------------\n"
     ]
    }
   ],
   "source": [
    "algo4 = Algorithm(\"algo4\")\n",
    "xi1, xi2 = algo4.add_var(\"xi1\", \"xi2\")\n",
    "proxf, proxg = algo4.add_oracle(\"proxf\", \"proxg\")\n",
    "\n",
    "# xi1 <- proxg(-xi1 + 2xi2) + xi1 - xi2\n",
    "algo4.add_update(xi1, proxg(-xi1 + 2*xi2) + xi1 - xi2)  \n",
    "# xi2 <- proxf(xi1)\n",
    "algo4.add_update(xi2, proxf(xi1))  \n",
    "\n",
    "algo4.parse()"
   ]
  },
  {
   "cell_type": "code",
   "execution_count": 8,
   "metadata": {},
   "outputs": [
    {
     "name": "stdout",
     "output_type": "stream",
     "text": [
      "--------------------------------------------------------------\n",
      "algo3 is a permutation of algo4.\n",
      "--------------------------------------------------------------\n"
     ]
    },
    {
     "data": {
      "text/plain": [
       "True"
      ]
     },
     "execution_count": 8,
     "metadata": {},
     "output_type": "execute_result"
    }
   ],
   "source": [
    "# check cyclic permutation (shift equivalence)\n",
    "lin.is_permutation(algo3, algo4, words = True)"
   ]
  },
  {
   "cell_type": "markdown",
   "metadata": {},
   "source": [
    "### Example 3 (permutation and conjugation)\n",
    "\n",
    "$\\text{For problem, }$ \n",
    " \n",
    "$\\text{minimize} \\; f(x) + g(x) $\n",
    "\n",
    "### Douglas-Rachford splitting\n",
    "\n",
    "$\\text{Repeat}$\n",
    "\n",
    "$x_1 \\gets \\text{prox}_{tf}(x_3)$\n",
    "\n",
    "$x_2 \\gets \\text{prox}_{tg}(2x_1 - x_3)$\n",
    "\n",
    "$x_3 \\gets x_3 + x_2 - x_1$"
   ]
  },
  {
   "cell_type": "code",
   "execution_count": 5,
   "metadata": {},
   "outputs": [
    {
     "name": "stdout",
     "output_type": "stream",
     "text": [
      "--------------------------------------------------------------\n",
      "Parse Douglas-Rachford splitting.\n",
      "State-space realization:\n"
     ]
    },
    {
     "data": {
      "text/latex": [
       "\\begin{align} \\left[\\begin{matrix}x^{+}_{1}\\\\x^{+}_{2}\\\\x^{+}_{3}\\end{matrix}\\right] & = \\left[\\begin{matrix}0 & 0 & 1\\\\0 & 0 & 1\\\\0 & 0 & 1\\end{matrix}\\right] \\left[\\begin{matrix}x_{1}\\\\x_{2}\\\\x_{3}\\end{matrix}\\right]+\\left[\\begin{matrix}- t & 0\\\\- 2 t & - t\\\\- t & - t\\end{matrix}\\right] \\left[\\begin{matrix}\\frac{d}{d y_{0}} f{\\left(y_{0} \\right)}\\\\\\frac{d}{d y_{1}} g{\\left(y_{1} \\right)}\\end{matrix}\\right] \\\\ \\left[\\begin{matrix}y_{0}\\\\y_{1}\\end{matrix}\\right] & = \\left[\\begin{matrix}0 & 0 & 1\\\\0 & 0 & 1\\end{matrix}\\right] \\left[\\begin{matrix}x_{1}\\\\x_{2}\\\\x_{3}\\end{matrix}\\right]+\\left[\\begin{matrix}- t & 0\\\\- 2 t & - t\\end{matrix}\\right] \\left[\\begin{matrix}\\frac{d}{d y_{0}} f{\\left(y_{0} \\right)}\\\\\\frac{d}{d y_{1}} g{\\left(y_{1} \\right)}\\end{matrix}\\right] \\end{align}"
      ],
      "text/plain": [
       "<IPython.core.display.Latex object>"
      ]
     },
     "metadata": {},
     "output_type": "display_data"
    },
    {
     "name": "stdout",
     "output_type": "stream",
     "text": [
      "--------------------------------------------------------------\n"
     ]
    }
   ],
   "source": [
    "DR = Algorithm(\"Douglas-Rachford splitting\")\n",
    "x1, x2, x3 = DR.add_var(\"x1\", \"x2\", \"x3\")\n",
    "f, g = DR.add_function(\"f\", \"g\")\n",
    "t = DR.add_parameter(\"t\")\n",
    "\n",
    "# x1 <- prox_tf(x3)\n",
    "DR.add_update(x1, lin.prox(f, t)(x3))\n",
    "# x2 <- prox_tg(2x1 - x3)\n",
    "DR.add_update(x2, lin.prox(g, t)(2*x1 - x3)) \n",
    "# x3 <- x3 + x2 - x1\n",
    "DR.add_update(x3, x3 + x2 - x1) \n",
    "\n",
    "DR.parse()"
   ]
  },
  {
   "cell_type": "markdown",
   "metadata": {},
   "source": [
    "### ADMM\n",
    "\n",
    "$\\text{Repeat}$\n",
    "\n",
    "$\\xi_1 \\gets \\text{argmin}_{\\xi_1}\\{g^\\star(\\xi_1)+ \\frac{\\rho}{2}\n",
    "\t\t\t\t\\left \\| \\xi_1 + \\xi_2 + \\xi_3 \\right \\|^2  \\} $\n",
    "\n",
    "$\\xi_2 \\gets \\text{argmin}_{\\xi_2}\\{f^\\star(\\xi_2)+ \\frac{\\rho}{2}\n",
    "\t\t\t\t\\left \\| \\xi_1 + \\xi_2 + \\xi_3 \\right \\|^2  \\} $\n",
    "\n",
    "$\\xi_3 \\gets \\xi_3 + \\xi_1 + \\xi_2 $"
   ]
  },
  {
   "cell_type": "code",
   "execution_count": 6,
   "metadata": {},
   "outputs": [
    {
     "name": "stdout",
     "output_type": "stream",
     "text": [
      "--------------------------------------------------------------\n",
      "Parse ADMM.\n",
      "State-space realization:\n"
     ]
    },
    {
     "data": {
      "text/latex": [
       "\\begin{align} \\left[\\begin{matrix}\\xi^{+}_{1}\\\\\\xi^{+}_{2}\\\\\\xi^{+}_{3}\\end{matrix}\\right] & = \\left[\\begin{matrix}0 & -1 & -1\\\\0 & 1 & 0\\\\0 & 0 & 0\\end{matrix}\\right] \\left[\\begin{matrix}\\xi_{1}\\\\\\xi_{2}\\\\\\xi_{3}\\end{matrix}\\right]+\\left[\\begin{matrix}- \\frac{1}{\\rho} & 0\\\\\\frac{1}{\\rho} & - \\frac{1}{\\rho}\\\\0 & - \\frac{1}{\\rho}\\end{matrix}\\right] \\left[\\begin{matrix}\\frac{d}{d y_{0}} g{\\left(y_{0} \\right)}\\\\\\frac{d}{d y_{1}} f{\\left(y_{1} \\right)}\\end{matrix}\\right] \\\\ \\left[\\begin{matrix}y_{0}\\\\y_{1}\\end{matrix}\\right] & = \\left[\\begin{matrix}0 & -1 & -1\\\\0 & 1 & 0\\end{matrix}\\right] \\left[\\begin{matrix}\\xi_{1}\\\\\\xi_{2}\\\\\\xi_{3}\\end{matrix}\\right]+\\left[\\begin{matrix}- \\frac{1}{\\rho} & 0\\\\\\frac{1}{\\rho} & - \\frac{1}{\\rho}\\end{matrix}\\right] \\left[\\begin{matrix}\\frac{d}{d y_{0}} g{\\left(y_{0} \\right)}\\\\\\frac{d}{d y_{1}} f{\\left(y_{1} \\right)}\\end{matrix}\\right] \\end{align}"
      ],
      "text/plain": [
       "<IPython.core.display.Latex object>"
      ]
     },
     "metadata": {},
     "output_type": "display_data"
    },
    {
     "name": "stdout",
     "output_type": "stream",
     "text": [
      "--------------------------------------------------------------\n"
     ]
    }
   ],
   "source": [
    "ADMM = Algorithm(\"ADMM\")\n",
    "f, g = ADMM.add_function(\"f\", \"g\")\n",
    "rho = ADMM.add_parameter(\"rho\")\n",
    "xi1, xi2, xi3 = ADMM.add_var(\"xi1\", \"xi2\", \"xi3\")\n",
    "\n",
    "# xi1 <- argmin(x1, g^*(xi1) + 1/2*rho*||xi1 + xi2 + xi3||^2)\n",
    "ADMM.add_update(xi1, lin.argmin(xi1, g(xi1) + 1/2*rho*lin.norm_square(xi1 + xi2 + xi3))) \n",
    "# xi2 <- argmin(x2, f^*(xi2) + 1/2*rho*||xi1 + xi2 + xi3||^2)\n",
    "ADMM.add_update(xi2, lin.argmin(xi2, f(xi2) + 1/2*rho*lin.norm_square(xi1 + xi2 + xi3))) \n",
    "# xi3 <- xi3 + xi1 + xi2\n",
    "ADMM.add_update(xi3, xi3 + xi1 + xi2) \n",
    "\n",
    "ADMM.parse()"
   ]
  },
  {
   "cell_type": "code",
   "execution_count": 7,
   "metadata": {},
   "outputs": [
    {
     "name": "stdout",
     "output_type": "stream",
     "text": [
      "--------------------------------------------------------------\n",
      "==============================================================\n",
      "Parameters of Douglas-Rachford splitting:\n"
     ]
    },
    {
     "data": {
      "text/latex": [
       "$$t$$"
      ],
      "text/plain": [
       "<IPython.core.display.Latex object>"
      ]
     },
     "metadata": {},
     "output_type": "display_data"
    },
    {
     "name": "stdout",
     "output_type": "stream",
     "text": [
      "Parameters of ADMM:\n"
     ]
    },
    {
     "data": {
      "text/latex": [
       "$$\\rho$$"
      ],
      "text/plain": [
       "<IPython.core.display.Latex object>"
      ]
     },
     "metadata": {},
     "output_type": "display_data"
    },
    {
     "name": "stdout",
     "output_type": "stream",
     "text": [
      "Douglas-Rachford splitting is a conjugate permutation of ADMM, if the parameters satisfy:\n"
     ]
    },
    {
     "data": {
      "text/latex": [
       "$$\\rho=t$$"
      ],
      "text/plain": [
       "<IPython.core.display.Latex object>"
      ]
     },
     "metadata": {},
     "output_type": "display_data"
    },
    {
     "name": "stdout",
     "output_type": "stream",
     "text": [
      "==============================================================\n",
      "--------------------------------------------------------------\n"
     ]
    }
   ],
   "source": [
    "# check conjugation and permutation \n",
    "# between permutation of DR and ADMM\n",
    "lin.test_conjugate_permutation(DR, ADMM)"
   ]
  }
 ],
 "metadata": {
  "kernelspec": {
   "display_name": "Python 3",
   "language": "python",
   "name": "python3"
  },
  "language_info": {
   "codemirror_mode": {
    "name": "ipython",
    "version": 3
   },
   "file_extension": ".py",
   "mimetype": "text/x-python",
   "name": "python",
   "nbconvert_exporter": "python",
   "pygments_lexer": "ipython3",
   "version": "3.7.3"
  }
 },
 "nbformat": 4,
 "nbformat_minor": 2
}
